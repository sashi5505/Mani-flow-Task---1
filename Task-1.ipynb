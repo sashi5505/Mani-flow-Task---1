{
 "cells": [
  {
   "cell_type": "code",
   "execution_count": 6,
   "id": "81c77d47-7494-4e92-a96d-6291002a4ff8",
   "metadata": {},
   "outputs": [
    {
     "name": "stdout",
     "output_type": "stream",
     "text": [
      "updated list: [0, 2, 4, 5, 6]\n"
     ]
    }
   ],
   "source": [
    "#creaing a list\n",
    "my_list = [1,2,3,4,5] \n",
    "\n",
    "#adding an element to the list\n",
    "my_list.append(6)\n",
    "\n",
    "#removing an element from the list\n",
    "my_list.remove(3)\n",
    "\n",
    "#modifying an element in the list\n",
    "my_list[0] =0\n",
    "\n",
    "print(\"updated list:\", my_list)"
   ]
  },
  {
   "cell_type": "code",
   "execution_count": 2,
   "id": "ec019fd9-311a-43d6-9e2e-b76f5569d8b6",
   "metadata": {},
   "outputs": [
    {
     "name": "stdout",
     "output_type": "stream",
     "text": [
      "updated dictionary: {'name': 'sashank', 'city': 'vizag', 'gender': 'Male'}\n"
     ]
    }
   ],
   "source": [
    "#creating dictionary\n",
    "my_dict = {'name': 'sashank', 'age': 19, 'city': 'hyderabad'}\n",
    "\n",
    "#adding\n",
    "my_dict['gender'] = 'Male'\n",
    "\n",
    "#removing\n",
    "del my_dict['age']\n",
    "\n",
    "#modifying\n",
    "my_dict['city'] = 'vizag'\n",
    "\n",
    "print(\"updated dictionary:\" , my_dict)"
   ]
  },
  {
   "cell_type": "code",
   "execution_count": 7,
   "id": "a0e32970-563e-4b52-abd5-830dfff4575d",
   "metadata": {},
   "outputs": [
    {
     "name": "stdout",
     "output_type": "stream",
     "text": [
      "updated set: {2, 4, 5, 6, 7}\n"
     ]
    }
   ],
   "source": [
    "#creating set\n",
    "my_set = {1,2,3,4,5}\n",
    "\n",
    "#adding\n",
    "my_set.add(6)\n",
    "\n",
    "#removing\n",
    "my_set.remove(3)\n",
    "\n",
    "#modifying\n",
    "my_set.discard(1)\n",
    "my_set.add(7)\n",
    "\n",
    "print(\"updated set:\", my_set)"
   ]
  },
  {
   "cell_type": "code",
   "execution_count": null,
   "id": "1e780b58-f26b-4819-b7cb-28ee9083db6d",
   "metadata": {},
   "outputs": [],
   "source": []
  }
 ],
 "metadata": {
  "kernelspec": {
   "display_name": "Python 3 (ipykernel)",
   "language": "python",
   "name": "python3"
  },
  "language_info": {
   "codemirror_mode": {
    "name": "ipython",
    "version": 3
   },
   "file_extension": ".py",
   "mimetype": "text/x-python",
   "name": "python",
   "nbconvert_exporter": "python",
   "pygments_lexer": "ipython3",
   "version": "3.11.7"
  }
 },
 "nbformat": 4,
 "nbformat_minor": 5
}
